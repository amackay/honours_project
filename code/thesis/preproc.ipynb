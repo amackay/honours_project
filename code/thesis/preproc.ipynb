{
 "cells": [
  {
   "cell_type": "code",
   "execution_count": null,
   "metadata": {
    "collapsed": true
   },
   "outputs": [],
   "source": [
    "import os\n",
    "import PIL\n",
    "import torchvision.transforms.functional as vF\n",
    "from torchvision.transforms import InterpolationMode\n"
   ]
  },
  {
   "cell_type": "code",
   "execution_count": null,
   "outputs": [],
   "source": [
    "\n",
    "# COLOUR -> GREYSCALE\n",
    "dst = '../../exps/bw/'\n",
    "os.makedirs(dst, exist_ok=True)\n",
    "\n",
    "src = '../../datasets/DIV2K_valid_HR_named/'\n",
    "# for fname in ['0801_penguin.png', '0809_lion.png', '0823_greece.png', '0872_walnuts.png', '0887_castle.png']:\n",
    "for fname in os.listdir(src):\n",
    "  if not fname.endswith('.png'):\n",
    "    continue\n",
    "  orig = PIL.Image.open(src + fname)\n",
    "  bw = vF.to_grayscale(orig, num_output_channels=1)\n",
    "  bw.save(dst + fname)\n"
   ],
   "metadata": {
    "collapsed": false
   }
  },
  {
   "cell_type": "code",
   "execution_count": null,
   "outputs": [],
   "source": [
    "\n",
    "# GREYSCALE -> SQUARE CROP AND 1D STRIP\n",
    "src = '../../exps/bw/'\n",
    "dst2d = '../../exps/2d/'\n",
    "dst1d = '../../exps/1d/'\n",
    "os.makedirs(dst2d, exist_ok=True)\n",
    "os.makedirs(dst1d, exist_ok=True)\n",
    "d1_size = 2039\n",
    "d2_size = 1023\n",
    "\n",
    "for fname in os.listdir(src):\n",
    "  if not fname.endswith('.png'):\n",
    "    continue\n",
    "  orig = PIL.Image.open(src + fname)\n",
    "  if orig.width < d1_size:\n",
    "    continue\n",
    "  if orig.width < d2_size or orig.height < d2_size:\n",
    "    continue\n",
    "\n",
    "  d1Test = vF.center_crop(orig, [1, d1_size])\n",
    "  d1Train = vF.resize(d1Test, size=[1, (d1_size+1)//2], interpolation=InterpolationMode.NEAREST)\n",
    "  assert vF.to_tensor(d1Test)[:, ::2, ::2].equal(vF.to_tensor(d1Train))\n",
    "  d1Test.save(dst1d + 'B' + fname)\n",
    "  d1Train.save(dst1d + 's' + fname)\n",
    "\n",
    "  d2Test = vF.center_crop(orig, 2*[d2_size])\n",
    "  d2Train = vF.resize(d2Test, size=2*[(d2_size+1)//2], interpolation=InterpolationMode.NEAREST)\n",
    "  assert vF.to_tensor(d2Test)[:, ::2, ::2].equal(vF.to_tensor(d2Train))\n",
    "  d2Test.save(dst2d + 'B' + fname)\n",
    "  d2Train.save(dst2d + 's' + fname)\n",
    "\n"
   ],
   "metadata": {
    "collapsed": false
   }
  }
 ],
 "metadata": {
  "kernelspec": {
   "display_name": "Python 3",
   "language": "python",
   "name": "python3"
  },
  "language_info": {
   "codemirror_mode": {
    "name": "ipython",
    "version": 2
   },
   "file_extension": ".py",
   "mimetype": "text/x-python",
   "name": "python",
   "nbconvert_exporter": "python",
   "pygments_lexer": "ipython2",
   "version": "2.7.6"
  }
 },
 "nbformat": 4,
 "nbformat_minor": 0
}
