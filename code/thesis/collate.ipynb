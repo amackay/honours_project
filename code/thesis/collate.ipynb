{
 "nbformat": 4,
 "nbformat_minor": 0,
 "metadata": {
  "colab": {
   "provenance": [],
   "gpuType": "T4"
  },
  "kernelspec": {
   "name": "python3",
   "language": "python",
   "display_name": "Python 3 (ipykernel)"
  },
  "language_info": {
   "name": "python"
  },
  "accelerator": "GPU",
  "gpuClass": "standard"
 },
 "cells": [
  {
   "cell_type": "code",
   "execution_count": null,
   "outputs": [],
   "source": [
    "%matplotlib inline\n",
    "import matplotlib.pyplot as plt\n",
    "plt.rcParams['figure.figsize'] = (15, 8)\n"
   ],
   "metadata": {
    "collapsed": false
   }
  },
  {
   "cell_type": "code",
   "source": [
    "import os\n",
    "os.environ[\"CUBLAS_WORKSPACE_CONFIG\"]=\":4096:8\"  # makes some CUDA calls deterministic\n",
    "import torch\n",
    "torch.use_deterministic_algorithms(True)\n",
    "torch.set_default_tensor_type('torch.cuda.FloatTensor')\n",
    "torch.set_grad_enabled(False)\n",
    "torch.inference_mode(True)\n"
   ],
   "metadata": {
    "id": "AQJ33YFmJrSi",
    "executionInfo": {
     "status": "ok",
     "timestamp": 1684300860645,
     "user_tz": -570,
     "elapsed": 4232,
     "user": {
      "displayName": "Alex Mackay",
      "userId": "00441447119930344040"
     }
    }
   },
   "execution_count": null,
   "outputs": []
  },
  {
   "cell_type": "code",
   "execution_count": null,
   "outputs": [],
   "source": [
    "from typing import Dict\n",
    "from tqdm.notebook import tqdm\n",
    "from collections import defaultdict\n",
    "import math\n",
    "import random\n",
    "import csv\n"
   ],
   "metadata": {
    "collapsed": false
   }
  },
  {
   "cell_type": "code",
   "source": [
    "\n",
    "def tryload(filepath, missing_ok=False):\n",
    "  try:\n",
    "    return torch.load(filepath)\n",
    "  except OSError:\n",
    "    if not missing_ok:\n",
    "      raise Exception(f'no file found at {filepath}')\n",
    "    return None\n",
    "\n",
    "class RunData(object):\n",
    "  def __init__(self, dirpath: str):\n",
    "    self.path = dirpath\n",
    "    self.config = tryload(os.path.join(self.path, 'config.pt'))\n",
    "    self.summary = tryload(os.path.join(self.path, 'summary.pt'), missing_ok=True)\n",
    "    self.loss_series = tryload(os.path.join(self.path, 'loss_series.pt'))\n",
    "    self.time_series = tryload(os.path.join(self.path, 'time_series.pt'))\n",
    "    # self.net_state = tryload(os.path.join(self.path, 'net_state.pt'))\n",
    "    # self.opt_state = tryload(os.path.join(self.path, 'opt_state.pt'))\n",
    "\n",
    "def runpaths():\n",
    "  for dirpath, dirnames, filenames in os.walk('../../exps/results'):\n",
    "    for filename in filenames:\n",
    "      if filename == 'config.pt':\n",
    "        yield dirpath\n",
    "\n",
    "def update_summary(r: RunData, recalc: bool = False) -> bool:\n",
    "  changed = False\n",
    "  if r.summary is None:\n",
    "    r.summary = {}\n",
    "    changed = True\n",
    "  recalc = recalc or ('time_total' not in r.summary) or (r.summary['time_total'] != torch.sum(r.time_series).item())\n",
    "  if recalc or 'last_mse' not in r.summary or 'last_epoch' not in r.summary:\n",
    "    r.summary['last_mse'] = r.loss_series[-1].item()\n",
    "    r.summary['last_epoch'] = len(r.loss_series) - 1\n",
    "    changed = True\n",
    "  if recalc or 'best_mse' not in r.summary or 'best_epoch' not in r.summary:\n",
    "    minres = torch.min(r.loss_series, dim=0)\n",
    "    r.summary['best_mse'] = minres.values.item()\n",
    "    r.summary['best_epoch'] = minres.indices.item()\n",
    "    changed = True\n",
    "  if recalc or 'worst_mse' not in r.summary or 'worst_epoch' not in r.summary:\n",
    "    maxres = torch.max(r.loss_series, dim=0)\n",
    "    r.summary['worst_mse'] = maxres.values.item()\n",
    "    r.summary['worst_epoch'] = maxres.indices.item()\n",
    "    changed = True\n",
    "  if recalc or 'time_min' not in r.summary:\n",
    "    r.summary['time_min'] = torch.min(r.time_series).item()\n",
    "    changed = True\n",
    "  if recalc or 'time_max' not in r.summary:\n",
    "    r.summary['time_max'] = torch.max(r.time_series).item()\n",
    "    changed = True\n",
    "  if recalc or 'time_total' not in r.summary:\n",
    "    r.summary['time_total'] = torch.sum(r.time_series).item()\n",
    "    changed = True\n",
    "  if recalc or 'I' not in r.summary:\n",
    "    if r.config['type'] == 'simple':\n",
    "      r.summary['I'] = r.config['N'] * r.config['D']\n",
    "    else:\n",
    "      r.summary['I'] = r.config['N'] ** r.config['D']\n",
    "    changed = True\n",
    "  return changed\n",
    "\n",
    "def update_summaries():\n",
    "  paths = list(runpaths())\n",
    "  # random.shuffle(paths)\n",
    "  changecount = 0\n",
    "  for p in tqdm(paths):\n",
    "    data = RunData(p)\n",
    "    change = update_summary(data)\n",
    "    if change:\n",
    "      changecount += 1\n",
    "      spath = os.path.join(data.path, 'summary.pt')\n",
    "      torch.save(data.summary, spath)\n",
    "      print(f'Updated {spath}')\n",
    "    del data\n",
    "  print(f'Updated {changecount}/{len(paths)} runs.')\n",
    "\n",
    "update_summaries()\n"
   ],
   "metadata": {
    "colab": {
     "base_uri": "https://localhost:8080/"
    },
    "id": "p-H2YCH0BNjA",
    "executionInfo": {
     "status": "ok",
     "timestamp": 1684300871448,
     "user_tz": -570,
     "elapsed": 6069,
     "user": {
      "displayName": "Alex Mackay",
      "userId": "00441447119930344040"
     }
    },
    "outputId": "34ced3de-2d6e-498c-9e9c-319163ea7c9c"
   },
   "execution_count": null,
   "outputs": []
  },
  {
   "cell_type": "code",
   "execution_count": null,
   "outputs": [],
   "source": [
    "\n",
    "def stats_from(dpath: str) -> Dict:\n",
    "  d = {}\n",
    "  d.update(torch.load(os.path.join(dpath, 'config.pt')))\n",
    "  d.update(torch.load(os.path.join(dpath, 'summary.pt')))\n",
    "  return d\n",
    "\n",
    "def collate():\n",
    "  dst = '../stats/results_raw.csv'\n",
    "  paths = list(runpaths())\n",
    "  with open(dst, 'w', newline='') as f:\n",
    "    first_stats = stats_from(paths[0])\n",
    "    writer = csv.DictWriter(f, fieldnames=first_stats.keys())\n",
    "    writer.writeheader()\n",
    "    for path in tqdm(paths):\n",
    "      writer.writerow(stats_from(path))\n",
    "\n",
    "collate()\n"
   ],
   "metadata": {
    "collapsed": false
   }
  },
  {
   "cell_type": "code",
   "execution_count": null,
   "outputs": [],
   "source": [
    "\n",
    "def bestpaths():\n",
    "  shortpaths = set()\n",
    "  for p in runpaths():\n",
    "    shortpaths.add(p[:p.index('/opt_')])\n",
    "  for p in sorted(shortpaths):\n",
    "    if p.count('H_0'):\n",
    "      continue\n",
    "    best_path = None\n",
    "    best_mse = 10\n",
    "    for dirpath, dirnames, filenames in os.walk(p):\n",
    "      for filename in filenames:\n",
    "        if filename == 'summary.pt':\n",
    "          d = torch.load(os.path.join(dirpath, 'summary.pt'))\n",
    "          mse = d['best_mse']\n",
    "          if mse < best_mse:\n",
    "            best_path = dirpath\n",
    "            best_mse = mse\n",
    "    yield best_path\n",
    "\n",
    "def psnr(mse):\n",
    "  if mse == 0:\n",
    "    return 1000000.0\n",
    "  return 10 * math.log10(1 / mse)\n",
    "\n",
    "def clean_stats_from(dpath: str) -> Dict:\n",
    "  d = {}\n",
    "  d.update(torch.load(os.path.join(dpath, 'config.pt')))\n",
    "  d.update(torch.load(os.path.join(dpath, 'summary.pt')))\n",
    "  clean = {\n",
    "    'N': d['N'],\n",
    "    'I': d['I'],\n",
    "    'H': d['H'],\n",
    "    'G': d['G'],\n",
    "    'P': d['P'],\n",
    "    'K': d['G'] / d['I'],\n",
    "    'psnr': psnr(d['best_mse']),\n",
    "    'total_time': d['time_total'] * 1e-9,\n",
    "    'epoch_time': d['time_total'] * 1e-9 / d['last_epoch'],\n",
    "  }\n",
    "  return clean\n",
    "\n",
    "def clean_collate():\n",
    "  paths_by_fname = defaultdict(list)\n",
    "  for p in bestpaths():\n",
    "    fname = p[p.index('D_'):p.index(' N_')].replace('/', ' ')\n",
    "    paths_by_fname[fname].append(p)\n",
    "  for fname,paths in tqdm(paths_by_fname.items(), desc='fnames'):\n",
    "    # print(repr(k), len(paths), paths[0])\n",
    "    with open(f'../stats/H_H {fname}.csv', 'w', newline='') as f:\n",
    "      first_stats = clean_stats_from(paths[0])\n",
    "      writer = csv.DictWriter(f, fieldnames=first_stats.keys())\n",
    "      writer.writeheader()\n",
    "      for path in paths:\n",
    "        writer.writerow(clean_stats_from(path))\n",
    "\n",
    "clean_collate()\n"
   ],
   "metadata": {
    "collapsed": false
   }
  },
  {
   "cell_type": "code",
   "execution_count": null,
   "outputs": [],
   "source": [
    "\n",
    "def solution_paths():\n",
    "    for dirpath, dirnames, filenames in os.walk('../../exps/solutions'):\n",
    "      for filename in filenames:\n",
    "        if filename == 'mse.pt':\n",
    "          yield dirpath\n",
    "\n",
    "def collate_solutions_from(dpath: str):\n",
    "  mses = torch.load(os.path.join(dpath, 'mse.pt'))\n",
    "  Ns = torch.load(os.path.join(dpath, 'N.pt'))\n",
    "  Ps = torch.load(os.path.join(dpath, 'P.pt'))\n",
    "  times = torch.load(os.path.join(dpath, 'time.pt'))\n",
    "  ds = []\n",
    "  for i in range(len(mses)):\n",
    "    mse = mses[i].item()\n",
    "    N = Ns[i].item()\n",
    "    P = Ps[i].item()\n",
    "    t = times[i].item()\n",
    "    d = {\n",
    "      'N': N,\n",
    "      'I': P,\n",
    "      'H': 0,\n",
    "      'G': 0,\n",
    "      'P': P,\n",
    "      'K': 0,\n",
    "      'psnr': psnr(mse),\n",
    "      'total_time': t * 1e-9,\n",
    "      'epoch_time': t * 1e-9,\n",
    "    }\n",
    "    ds.append(d)\n",
    "  return ds\n",
    "\n",
    "def collate_solutions():\n",
    "  for p in solution_paths():\n",
    "    ds = collate_solutions_from(p)\n",
    "    fname = p[p.index('D_'):].replace('/', ' ')\n",
    "    with open(f'../stats/H_0 {fname}.csv', 'w', newline='') as f:\n",
    "      first_stats = ds[0]\n",
    "      writer = csv.DictWriter(f, fieldnames=first_stats.keys())\n",
    "      writer.writeheader()\n",
    "      for d in ds:\n",
    "        writer.writerow(d)\n",
    "\n",
    "# collate_solutions()\n"
   ],
   "metadata": {
    "collapsed": false
   }
  }
 ]
}
