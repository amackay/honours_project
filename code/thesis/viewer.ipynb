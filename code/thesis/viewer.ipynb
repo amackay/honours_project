{
 "cells": [
  {
   "cell_type": "code",
   "execution_count": null,
   "outputs": [],
   "source": [
    "%matplotlib inline\n",
    "import matplotlib.pyplot as plt\n",
    "import matplotlib.ticker as mtick\n",
    "plt.rcParams['figure.figsize'] = (15, 8)\n"
   ],
   "metadata": {
    "collapsed": false
   }
  },
  {
   "cell_type": "code",
   "execution_count": null,
   "outputs": [],
   "source": [
    "import os\n",
    "os.environ[\"CUBLAS_WORKSPACE_CONFIG\"]=\":4096:8\"  # makes some CUDA calls deterministic\n",
    "import torch\n",
    "torch.use_deterministic_algorithms(True)\n",
    "torch.set_default_tensor_type('torch.cuda.FloatTensor')\n",
    "torch.set_grad_enabled(False)\n",
    "torch.inference_mode(True)\n"
   ],
   "metadata": {
    "collapsed": false
   }
  },
  {
   "cell_type": "code",
   "execution_count": null,
   "metadata": {
    "collapsed": true
   },
   "outputs": [],
   "source": [
    "from typing import NamedTuple, List, Iterator, Optional\n",
    "import PIL\n",
    "import torch.nn as nn\n"
   ]
  },
  {
   "cell_type": "code",
   "execution_count": null,
   "outputs": [],
   "source": [
    "class Config(NamedTuple):\n",
    "  # signal\n",
    "  D: int  # number of dimensions\n",
    "  sig: str  # signal/image file name, minus '.png'\n",
    "  # encoding\n",
    "  type: str  # see complex_ef() for options\n",
    "  gen: str  # see gen_fn_for(name) for options\n",
    "  N: int\n",
    "  # architecture\n",
    "  H: int\n",
    "  G: int\n",
    "  # init and training\n",
    "  seed: int\n",
    "  opt: str\n",
    "  mlr: int  # milli learning rate\n",
    "  epoch_count: int = 10000\n",
    "\n",
    "  @classmethod\n",
    "  def from_path(cls, path):\n",
    "    d = torch.load(path)\n",
    "    return Config(**d)\n"
   ],
   "metadata": {
    "collapsed": false
   }
  },
  {
   "cell_type": "code",
   "execution_count": null,
   "outputs": [],
   "source": [
    "class RunData(object):\n",
    "  def __init__(self, dirpath: str):\n",
    "    self.path = dirpath\n",
    "    self.config = Config.from_path(os.path.join(self.path, 'config.pt'))\n",
    "    self.loss_series = torch.load(os.path.join(self.path, 'loss_series.pt'))\n",
    "    self.ratio_series = self.loss_series[:-1] / self.loss_series[1:]\n",
    "    self.time_series = torch.load(os.path.join(self.path, 'time_series.pt'))\n",
    "    self.net_state = torch.load(os.path.join(self.path, 'net_state.pt'))  # TODO: visualise or don't bother loading\n",
    "    self.opt_state = torch.load(os.path.join(self.path, 'opt_state.pt'))  # TODO: visualise or don't bother loading\n",
    "\n",
    "def print_config(run):\n",
    "  print(f'Path: {run.path}')\n",
    "  print(f'Configuration:')\n",
    "  # for k, v in run.config.items():\n",
    "  #   print(f'  {k}:\\t{v}')\n",
    "  print(f'  Signal: {run.config.D}D, {run.config.sig}.png')\n",
    "  print(f'  Encoding: {run.config.type}, {run.config.gen}, N={run.config.N}')\n",
    "  print(f'  Architecture: H={run.config.H} hidden layers of width G={run.config.G}')\n",
    "  print(f'  Training: {run.config.opt}, lr={run.config.mlr/1000}, seed={run.config.seed}, {run.config.epoch_count} epochs')\n",
    "  print(f'  Run so far: {len(run.time_series)} epochs, total time {int(run.time_series.sum() * 1e-9)} seconds.')\n",
    "  print()\n",
    "\n",
    "def chart_loss(run):\n",
    "  fig, ax0 = plt.subplots(nrows=1)\n",
    "  ax0.plot(run.loss_series[:].cpu())\n",
    "  ax0.set_xscale('log')\n",
    "  ax0.set_yscale('log')\n",
    "  ax0.set_xlim(1e1)\n",
    "  ax0.grid(which='both')\n",
    "\n",
    "data = RunData('/home/alex/hp/exps/results/D_2/sig_s0823_greece/type_simple gen_sinc N_256/H_4 G_85/opt_tpc mlr_1 seed_0/')\n",
    "# print_config(data)\n",
    "chart_loss(data)\n"
   ],
   "metadata": {
    "collapsed": false
   }
  },
  {
   "cell_type": "code",
   "execution_count": null,
   "outputs": [],
   "source": [
    "n = len(data.loss_series)\n",
    "half1 = data.loss_series[:n//2]\n",
    "half2 = data.loss_series[n//2:]\n",
    "best1 = float(torch.min(half1))\n",
    "best2 = float(torch.min(half2))\n",
    "r = best2/best1\n",
    "print(best1, best2, r)\n",
    "if r > 0.9:\n",
    "  print('stop')\n"
   ],
   "metadata": {
    "collapsed": false
   }
  },
  {
   "cell_type": "code",
   "execution_count": null,
   "outputs": [],
   "source": [
    "def percentile_chart(series):\n",
    "  ordered = series.msort()\n",
    "  fig, ax = plt.subplots(ncols=1)\n",
    "  ax.set_xlabel(\"Percent rank\")\n",
    "  ax.set_xlabel(\"Percentile value\")\n",
    "  ax.xaxis.set_major_formatter(mtick.PercentFormatter(xmax=len(ordered)))\n",
    "  ax.grid(which='both')\n",
    "  ax.plot(ordered.cpu())\n",
    "  return fig, ax\n"
   ],
   "metadata": {
    "collapsed": false
   }
  },
  {
   "cell_type": "code",
   "execution_count": null,
   "outputs": [],
   "source": [
    "\n",
    "def chart_ratios(run):\n",
    "  fig, ax = percentile_chart(run.ratio_series)\n",
    "  ax.set_yscale('log')\n",
    "  ax.axhline(y=1, color='black', ls='--')\n",
    "  ax.set_ylabel('MSE change ratio')\n",
    "  ax.set_title('MSE change ratio by percentile')\n",
    "\n",
    "chart_ratios(data)\n"
   ],
   "metadata": {
    "collapsed": false
   }
  },
  {
   "cell_type": "code",
   "execution_count": null,
   "outputs": [],
   "source": [
    "\n",
    "def chart_time(run):\n",
    "  fig, ax = percentile_chart(run.time_series / 1e9)\n",
    "  ax.set_ylim(0)\n",
    "  ax.set_ylabel('Time to train one epoch (seconds)')\n",
    "  ax.set_title('Training time by percentile')\n",
    "\n",
    "chart_time(data)\n"
   ],
   "metadata": {
    "collapsed": false
   }
  }
 ],
 "metadata": {
  "kernelspec": {
   "display_name": "Python 3",
   "language": "python",
   "name": "python3"
  },
  "language_info": {
   "codemirror_mode": {
    "name": "ipython",
    "version": 2
   },
   "file_extension": ".py",
   "mimetype": "text/x-python",
   "name": "python",
   "nbconvert_exporter": "python",
   "pygments_lexer": "ipython2",
   "version": "2.7.6"
  }
 },
 "nbformat": 4,
 "nbformat_minor": 0
}
